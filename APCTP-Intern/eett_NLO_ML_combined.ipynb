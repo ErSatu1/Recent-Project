{
 "cells": [
  {
   "cell_type": "code",
   "execution_count": 12,
   "metadata": {
    "executionInfo": {
     "elapsed": 42,
     "status": "ok",
     "timestamp": 1751987059207,
     "user": {
      "displayName": "Bayu Hartanto",
      "userId": "04391629278594755961"
     },
     "user_tz": -540
    },
    "id": "bw4FMndS_cY9"
   },
   "outputs": [],
   "source": [
    "from mpmath import *\n",
    "import numpy as np\n",
    "import math\n",
    "import random\n",
    "import time\n",
    "from tensorflow import keras\n",
    "import matplotlib.pyplot as plt"
   ]
  },
  {
   "cell_type": "code",
   "execution_count": 2,
   "metadata": {
    "executionInfo": {
     "elapsed": 89,
     "status": "ok",
     "timestamp": 1751986640878,
     "user": {
      "displayName": "Bayu Hartanto",
      "userId": "04391629278594755961"
     },
     "user_tz": -540
    },
    "id": "TIqJfqKU_u06"
   },
   "outputs": [],
   "source": [
    "mass = [173.0,173.0]"
   ]
  },
  {
   "cell_type": "code",
   "execution_count": 3,
   "metadata": {
    "executionInfo": {
     "elapsed": 30,
     "status": "ok",
     "timestamp": 1751986640888,
     "user": {
      "displayName": "Bayu Hartanto",
      "userId": "04391629278594755961"
     },
     "user_tz": -540
    },
    "id": "wLtBPaNt_2Hg"
   },
   "outputs": [],
   "source": [
    "alpha = 1/137.0\n",
    "rts = 1000.0\n",
    "Nc = 3\n",
    "Qt = 2/3\n",
    "CF = 4/3\n",
    "als = 1/10"
   ]
  },
  {
   "cell_type": "code",
   "execution_count": 4,
   "metadata": {
    "executionInfo": {
     "elapsed": 25,
     "status": "ok",
     "timestamp": 1751986640889,
     "user": {
      "displayName": "Bayu Hartanto",
      "userId": "04391629278594755961"
     },
     "user_tz": -540
    },
    "id": "o9b1JEoQ_2tk"
   },
   "outputs": [],
   "source": [
    "def alam(a,b,c):\n",
    "  return a**2+b**2+c**2 - 2*a*b -2*a*c -2*b*c"
   ]
  },
  {
   "cell_type": "code",
   "execution_count": 5,
   "metadata": {
    "executionInfo": {
     "elapsed": 23,
     "status": "ok",
     "timestamp": 1751986640890,
     "user": {
      "displayName": "Bayu Hartanto",
      "userId": "04391629278594755961"
     },
     "user_tz": -540
    },
    "id": "wvbKxOB6_80M"
   },
   "outputs": [],
   "source": [
    "def dot4(p1,p2):\n",
    "  return p1[0]*p2[0]-p1[1]*p2[1]-p1[2]*p2[2]-p1[3]*p2[3]"
   ]
  },
  {
   "cell_type": "code",
   "execution_count": 6,
   "metadata": {
    "executionInfo": {
     "elapsed": 2,
     "status": "ok",
     "timestamp": 1751986640893,
     "user": {
      "displayName": "Bayu Hartanto",
      "userId": "04391629278594755961"
     },
     "user_tz": -540
    },
    "id": "yEEBs24fAy1E"
   },
   "outputs": [],
   "source": [
    "def generatemomenta(xv,rts,masses):\n",
    "  mtilde1 = rts\n",
    "  mtilde2 = masses[1]\n",
    "  psqi = alam(mtilde1**2,masses[0]**2,mtilde2**2)/(4.0*mtilde1**2)\n",
    "  ei = math.sqrt(psqi+masses[0]**2)\n",
    "  pi = math.sqrt(psqi)\n",
    "  costhi = 1-2*xv[1]\n",
    "  sinthi = math.sqrt(1-costhi**2)\n",
    "  phi = 2.0*math.pi*xv[0]\n",
    "  pmom = np.array([ei,pi*sinthi*math.sin(phi),pi*sinthi*math.cos(phi),pi*costhi])\n",
    "  wps = pi/(4.0*math.pi*mtilde1)\n",
    "  return [pmom,wps]"
   ]
  },
  {
   "cell_type": "code",
   "execution_count": 7,
   "metadata": {},
   "outputs": [],
   "source": [
    "def matrixelement(tt,mm2):\n",
    "    return (1 + 2*mm2**2 + 2*tt - 4*mm2*tt + 2*tt**2)"
   ]
  },
  {
   "cell_type": "code",
   "execution_count": 8,
   "metadata": {},
   "outputs": [],
   "source": [
    "def matrixelement1L(tt,mm2):\n",
    "    result = (-8*mm2*(pow(mm2,2) + tt - 2*mm2*tt + pow(tt,2))*log((1 - sqrt(1 - 4*mm2))/(1 + sqrt(1 - 4*mm2))))/sqrt(1 - 4*mm2) + (1 + 2*pow(mm2,2) + 2*tt - 4*mm2*tt + 2*pow(tt,2))*(-4 + 3*sqrt(1 - 4*mm2)*log((1 + sqrt(1 - 4*mm2))/(1 - sqrt(1 - 4*mm2))) - 2*log(1/mm2) + ((2 - 4*mm2)*log((1 + sqrt(1 - 4*mm2))/(1 - sqrt(1 - 4*mm2)))*log(1/mm2))/sqrt(1 - 4*mm2) + ((2 - 4*mm2)*((2*pow(pi,2))/3. - pow(log((1 - sqrt(1 - 4*mm2))/(1 + sqrt(1 - 4*mm2))),2)/2. + 2*log((1 - sqrt(1 - 4*mm2))/(1 + sqrt(1 - 4*mm2)))*log((2*sqrt(1 - 4*mm2))/(1 + sqrt(1 - 4*mm2))) + 2*polylog(2,(1 - sqrt(1 - 4*mm2))/(1 + sqrt(1 - 4*mm2)))))/sqrt(1 - 4*mm2))\n",
    "    return result"
   ]
  },
  {
   "cell_type": "code",
   "execution_count": 9,
   "metadata": {},
   "outputs": [],
   "source": [
    "factor0L = Nc*Qt**2*32*alpha**2*math.pi**2\n",
    "factor1L = factor0L*(als/2/pi)*CF"
   ]
  },
  {
   "cell_type": "code",
   "execution_count": 10,
   "metadata": {},
   "outputs": [
    {
     "name": "stdout",
     "output_type": "stream",
     "text": [
      "100.156909578073\n"
     ]
    }
   ],
   "source": [
    "print(matrixelement1L(1.1,.2))"
   ]
  },
  {
   "cell_type": "code",
   "execution_count": 11,
   "metadata": {
    "executionInfo": {
     "elapsed": 44,
     "status": "ok",
     "timestamp": 1751986874509,
     "user": {
      "displayName": "Bayu Hartanto",
      "userId": "04391629278594755961"
     },
     "user_tz": -540
    },
    "id": "C7o7e-azH5ZY"
   },
   "outputs": [],
   "source": [
    "Nshot = 1000000"
   ]
  },
  {
   "cell_type": "code",
   "execution_count": 13,
   "metadata": {
    "executionInfo": {
     "elapsed": 26327,
     "status": "ok",
     "timestamp": 1751987638484,
     "user": {
      "displayName": "Bayu Hartanto",
      "userId": "04391629278594755961"
     },
     "user_tz": -540
    },
    "id": "g8w-8ewPGlCI"
   },
   "outputs": [
    {
     "name": "stdout",
     "output_type": "stream",
     "text": [
      "  ... Completed 100000 / 1000000 iterations (10%)\n",
      "  ... Completed 200000 / 1000000 iterations (20%)\n",
      "  ... Completed 300000 / 1000000 iterations (30%)\n",
      "  ... Completed 400000 / 1000000 iterations (40%)\n",
      "  ... Completed 500000 / 1000000 iterations (50%)\n",
      "  ... Completed 600000 / 1000000 iterations (60%)\n",
      "  ... Completed 700000 / 1000000 iterations (70%)\n",
      "  ... Completed 800000 / 1000000 iterations (80%)\n",
      "  ... Completed 900000 / 1000000 iterations (90%)\n",
      "  ... Completed 1000000 / 1000000 iterations (100%)\n",
      "Time taken: 434.2628 seconds\n",
      "----------------------------------------\n"
     ]
    }
   ],
   "source": [
    "random.seed(9172025)\n",
    "sigma=0.0\n",
    "var=0.0\n",
    "bin = [0]*20\n",
    "start_time_func = time.time() # Record start time ⏰\n",
    "\n",
    "for i in range(Nshot):\n",
    "  xrand = [random.random(),random.random()]\n",
    "  mtilde1 = rts\n",
    "  mtilde2 = mass[1]\n",
    "  pmomout = generatemomenta(xrand,rts,mass)\n",
    "  pmom1 = pmomout[0]\n",
    "  pmom2 = np.multiply(pmom1,np.array([1,-1,-1,-1]))\n",
    "  bmom1 = np.array([rts/2,0,0,rts/2])\n",
    "  bmom2 = np.array([rts/2,0,0,-rts/2])\n",
    "  #msq = 32*math.pi**2*alpha**2/dot4(bmom1,bmom2)**2*( dot4(bmom2,pmom1)*dot4(bmom1,pmom2) + dot4(bmom1,pmom1)*dot4(bmom2,pmom2) + dot4(bmom1,pmom2)*mass[0]*mass[1] )\n",
    "  tt = (mass[0]**2 - 2*dot4(bmom1,pmom1))/(2*dot4(bmom1,bmom2))\n",
    "  mm2 = mass[0]**2/(2*dot4(bmom1,bmom2))\n",
    "  #msq = Nc*Qt**2*32*alpha**2*math.pi**2*matrixelement(tt,mm2)  # msq for 0L\n",
    "  msq = factor1L*matrixelement1L(tt,mm2)\n",
    "  flux = 1/4/dot4(bmom1,bmom2)\n",
    "  wps = pmomout[1]*msq*flux*389000000\n",
    "  sigma = sigma + wps/Nshot\n",
    "  var = var + wps**2/Nshot\n",
    "  costheta = (bmom1[0]*pmom1[0]-dot4(bmom1,pmom1))/bmom1[0]/math.sqrt(pmom1[1]**2+pmom1[2]**2+pmom1[3]**2)\n",
    "  nbin = math.ceil(costheta*10 + 10)-1\n",
    "  #print(nbin)\n",
    "  bin[nbin]=bin[nbin]+wps/Nshot*10\n",
    "  if (i + 1) % (Nshot // 10) == 0 and i > 0:\n",
    "    print(f\"  ... Completed {i + 1} / {Nshot} iterations ({((i + 1) / Nshot):.0%})\")\n",
    "\n",
    "\n",
    "end_time_func = time.time() # Record end time ⏰\n",
    "duration_func = end_time_func - start_time_func\n",
    "print(f\"Time taken: {duration_func:.4f} seconds\")\n",
    "print(\"-\" * 40)"
   ]
  },
  {
   "cell_type": "code",
   "execution_count": 14,
   "metadata": {},
   "outputs": [
    {
     "name": "stdout",
     "output_type": "stream",
     "text": [
      "Model loaded successfully!\n"
     ]
    }
   ],
   "source": [
    "# Define the path to your saved model file\n",
    "model_filepath = './ThreeLayer-NLO-3/best_model.keras'\n",
    "# Load the model from the file\n",
    "# This will restore the model's architecture, weights, and optimizer state.\n",
    "loaded_model = keras.models.load_model(model_filepath)\n",
    "\n",
    "# The 'loaded_model' is now ready to be used just like the original model.\n",
    "print(\"Model loaded successfully!\")"
   ]
  },
  {
   "cell_type": "code",
   "execution_count": 17,
   "metadata": {},
   "outputs": [
    {
     "name": "stdout",
     "output_type": "stream",
     "text": [
      "\n",
      "--- Step 1: Collecting data from simulation loop... ---\n",
      "  ... Collected data for 100000 / 1000000 iterations\n",
      "  ... Collected data for 200000 / 1000000 iterations\n",
      "  ... Collected data for 300000 / 1000000 iterations\n",
      "  ... Collected data for 400000 / 1000000 iterations\n",
      "  ... Collected data for 500000 / 1000000 iterations\n",
      "  ... Collected data for 600000 / 1000000 iterations\n",
      "  ... Collected data for 700000 / 1000000 iterations\n",
      "  ... Collected data for 800000 / 1000000 iterations\n",
      "  ... Collected data for 900000 / 1000000 iterations\n",
      "  ... Collected data for 1000000 / 1000000 iterations\n",
      "Data collection finished in 12.2281 seconds.\n",
      "\n",
      "--- Step 2: Performing batch prediction... ---\n",
      "31250/31250 [==============================] - 45s 1ms/step\n",
      "Batch prediction finished in 60.8433 seconds.\n",
      "\n",
      "--- Step 3: Performing final calculations... ---\n",
      "Final calculations finished in 34.7682 seconds.\n",
      "\n",
      "--- SIMULATION COMPLETE ---\n"
     ]
    }
   ],
   "source": [
    "import time\n",
    "import random\n",
    "import math\n",
    "import numpy as np\n",
    "\n",
    "# --- Prerequisites ---\n",
    "# This code assumes the following variables are already defined:\n",
    "# Nshot, rts, mass, factor1L, generatemomenta, dot4, loaded_model\n",
    "\n",
    "random.seed(9172025)\n",
    "\n",
    "# ===================================================================\n",
    "# STEP 1: COLLECT ALL INPUTS AND OTHER NECESSARY DATA\n",
    "# First, we loop through the simulation just to gather all the data\n",
    "# we will need for prediction and later calculations.\n",
    "# ===================================================================\n",
    "print(\"\\n--- Step 1: Collecting data from simulation loop... ---\")\n",
    "start_time_collect = time.time() # Record start time for this step\n",
    "\n",
    "list_of_model_inputs = []\n",
    "list_of_other_data = []\n",
    "\n",
    "for i in range(Nshot):\n",
    "    # Generate momenta and kinematic variables\n",
    "    xrand = [random.random(), random.random()]\n",
    "    pmomout = generatemomenta(xrand, rts, mass)\n",
    "    pmom1 = pmomout[0]\n",
    "    bmom1 = np.array([rts / 2, 0, 0, rts / 2])\n",
    "    bmom2 = np.array([rts / 2, 0, 0, -rts / 2])\n",
    "\n",
    "    tt = (mass[0]**2 - 2 * dot4(bmom1, pmom1)) / (2 * dot4(bmom1, bmom2))\n",
    "    mm2 = mass[0]**2 / (2 * dot4(bmom1, bmom2))\n",
    "\n",
    "    # Append the [tt, mm2] pair for the model\n",
    "    list_of_model_inputs.append([tt, mm2])\n",
    "\n",
    "    # Store other values we will need in the final calculation loop\n",
    "    flux = 1 / 4 / dot4(bmom1, bmom2)\n",
    "    costheta = (bmom1[0] * pmom1[0] - dot4(bmom1, pmom1)) / bmom1[0] / math.sqrt(\n",
    "        pmom1[1]**2 + pmom1[2]**2 + pmom1[3]**2\n",
    "    )\n",
    "    list_of_other_data.append({\n",
    "        'pmomout1': pmomout[1],\n",
    "        'flux': flux,\n",
    "        'costheta': costheta\n",
    "    })\n",
    "    \n",
    "    # Optional: Print progress for long loops\n",
    "    if (i + 1) % (Nshot // 10) == 0 and i > 0:\n",
    "        print(f\"  ... Collected data for {i + 1} / {Nshot} iterations\")\n",
    "\n",
    "\n",
    "# Convert the list of inputs into a single large NumPy array\n",
    "all_model_inputs = np.array(list_of_model_inputs)\n",
    "\n",
    "end_time_collect = time.time()\n",
    "print(f\"Data collection finished in {end_time_collect - start_time_collect:.4f} seconds.\")\n",
    "\n",
    "\n",
    "# ===================================================================\n",
    "# STEP 2: PERFORM BATCH PREDICTION (ONCE)\n",
    "# Now, we predict on the entire dataset in a single, efficient call.\n",
    "# This replaces calling matrixelement1L in every loop iteration.\n",
    "# ===================================================================\n",
    "print(\"\\n--- Step 2: Performing batch prediction... ---\")\n",
    "start_time_predict = time.time()\n",
    "\n",
    "# Predict on all inputs at once using the pre-trained model\n",
    "all_predictions = loaded_model.predict(all_model_inputs)\n",
    "\n",
    "end_time_predict = time.time()\n",
    "print(f\"Batch prediction finished in {end_time_predict - start_time_predict:.4f} seconds.\")\n",
    "\n",
    "\n",
    "# ===================================================================\n",
    "# STEP 3: FINAL CALCULATION LOOP\n",
    "# With all predictions ready, we can now loop through and calculate\n",
    "# the final physics quantities. This loop will be very fast.\n",
    "# ===================================================================\n",
    "print(\"\\n--- Step 3: Performing final calculations... ---\")\n",
    "start_time_final_calc = time.time()\n",
    "\n",
    "# Initialize final variables\n",
    "sigma = 0.0\n",
    "var = 0.0\n",
    "bin = [0] * 20\n",
    "\n",
    "for i in range(Nshot):\n",
    "    # Retrieve the pre-calculated prediction and other data\n",
    "    predicted_value = all_predictions[i][0] # Use [i][0] if model output is like [[value]]\n",
    "    other_data = list_of_other_data[i]\n",
    "\n",
    "    # Use the predicted value to calculate msq\n",
    "    # This replaces: msq = factor1L * matrixelement1L(tt, mm2)\n",
    "    msq = factor1L * predicted_value\n",
    "\n",
    "    # Calculate other quantities using the stored data\n",
    "    wps = other_data['pmomout1'] * msq * other_data['flux'] * 389000000\n",
    "    sigma = sigma + wps / Nshot\n",
    "    var = var + wps**2 / Nshot\n",
    "\n",
    "    # Calculate bin index from stored costheta\n",
    "    nbin = math.ceil(other_data['costheta'] * 10 + 10) - 1\n",
    "    if 0 <= nbin < 20: # Safety check for bin index\n",
    "        bin[nbin] = bin[nbin] + wps / Nshot * 10\n",
    "\n",
    "end_time_final_calc = time.time()\n",
    "print(f\"Final calculations finished in {end_time_final_calc - start_time_final_calc:.4f} seconds.\")\n",
    "print(\"\\n--- SIMULATION COMPLETE ---\")"
   ]
  },
  {
   "cell_type": "code",
   "execution_count": 18,
   "metadata": {
    "executionInfo": {
     "elapsed": 17,
     "status": "ok",
     "timestamp": 1751987678453,
     "user": {
      "displayName": "Bayu Hartanto",
      "userId": "04391629278594755961"
     },
     "user_tz": -540
    },
    "id": "MotFMbmKNi6b"
   },
   "outputs": [],
   "source": [
    "dsigma = math.sqrt(abs(var-sigma**2)/Nshot)"
   ]
  },
  {
   "cell_type": "markdown",
   "metadata": {},
   "source": [
    "STD error"
   ]
  },
  {
   "cell_type": "code",
   "execution_count": 16,
   "metadata": {
    "colab": {
     "base_uri": "https://localhost:8080/"
    },
    "executionInfo": {
     "elapsed": 50,
     "status": "ok",
     "timestamp": 1751987680251,
     "user": {
      "displayName": "Bayu Hartanto",
      "userId": "04391629278594755961"
     },
     "user_tz": -540
    },
    "id": "hfXLymOXKbmB",
    "outputId": "385a4de5-51d3-4e41-b020-460d40024b4a"
   },
   "outputs": [
    {
     "name": "stdout",
     "output_type": "stream",
     "text": [
      "0.0600713824088826 1.143768637670637e-05\n"
     ]
    }
   ],
   "source": [
    "print(sigma,dsigma)"
   ]
  },
  {
   "cell_type": "code",
   "execution_count": 19,
   "metadata": {},
   "outputs": [
    {
     "name": "stdout",
     "output_type": "stream",
     "text": [
      "0.0600756321295649 1.1425483821507592e-05\n"
     ]
    }
   ],
   "source": [
    "print(sigma,dsigma)"
   ]
  },
  {
   "cell_type": "code",
   "execution_count": 20,
   "metadata": {
    "executionInfo": {
     "elapsed": 10,
     "status": "ok",
     "timestamp": 1751989438847,
     "user": {
      "displayName": "Bayu Hartanto",
      "userId": "04391629278594755961"
     },
     "user_tz": -540
    },
    "id": "baeFtlK9Kdgu"
   },
   "outputs": [],
   "source": [
    "def sigmaANL(rts,m,a):\n",
    "  return Nc*Qt**2*4*math.pi*a**2/3/rts**2*math.sqrt(1-4*m**2/rts**2)*( 1 + 2*m**2/rts**2 )*389000000"
   ]
  },
  {
   "cell_type": "code",
   "execution_count": 21,
   "metadata": {
    "colab": {
     "base_uri": "https://localhost:8080/"
    },
    "executionInfo": {
     "elapsed": 15,
     "status": "ok",
     "timestamp": 1751989442472,
     "user": {
      "displayName": "Bayu Hartanto",
      "userId": "04391629278594755961"
     },
     "user_tz": -540
    },
    "id": "5PcfzMJkOUeE",
    "outputId": "d9d29701-dc8b-4201-9e62-a4e8b1c4e690"
   },
   "outputs": [
    {
     "name": "stdout",
     "output_type": "stream",
     "text": [
      "0.1151051882153969\n"
     ]
    }
   ],
   "source": [
    "print(sigmaANL(rts,mass[0],alpha))"
   ]
  },
  {
   "cell_type": "code",
   "execution_count": 22,
   "metadata": {
    "executionInfo": {
     "elapsed": 21,
     "status": "ok",
     "timestamp": 1751990114691,
     "user": {
      "displayName": "Bayu Hartanto",
      "userId": "04391629278594755961"
     },
     "user_tz": -540
    },
    "id": "LYH-YFm-gxtF"
   },
   "outputs": [],
   "source": [
    "bin2 = ([bin[0]] + bin)"
   ]
  },
  {
   "cell_type": "code",
   "execution_count": 23,
   "metadata": {
    "executionInfo": {
     "elapsed": 4,
     "status": "ok",
     "timestamp": 1751990120572,
     "user": {
      "displayName": "Bayu Hartanto",
      "userId": "04391629278594755961"
     },
     "user_tz": -540
    },
    "id": "78MrbGschHrj"
   },
   "outputs": [],
   "source": [
    "xs = [x/10-1.0 for x in range(len(bin)+1)]"
   ]
  },
  {
   "cell_type": "code",
   "execution_count": 24,
   "metadata": {
    "executionInfo": {
     "elapsed": 16,
     "status": "ok",
     "timestamp": 1751990121243,
     "user": {
      "displayName": "Bayu Hartanto",
      "userId": "04391629278594755961"
     },
     "user_tz": -540
    },
    "id": "eDIvvizYtDgs"
   },
   "outputs": [],
   "source": [
    "def dsigmadcosthANL(cth,rts,m,alpha):\n",
    "  return Nc*Qt**2*math.pi*alpha**2/(2*rts**2)*math.sqrt(1-4*m**2/rts**2)*( \n",
    "      1 + 4*m**2/rts**2 + (1-4*m**2/rts**2)*cth**2 )*389000000"
   ]
  },
  {
   "cell_type": "code",
   "execution_count": 25,
   "metadata": {
    "executionInfo": {
     "elapsed": 5,
     "status": "ok",
     "timestamp": 1751990121806,
     "user": {
      "displayName": "Bayu Hartanto",
      "userId": "04391629278594755961"
     },
     "user_tz": -540
    },
    "id": "9FvDbH_nkZHw"
   },
   "outputs": [],
   "source": [
    "xx = np.linspace(-1, 1, 1000)\n",
    "yy = dsigmadcosthANL(xx,rts,mass[0],alpha)"
   ]
  },
  {
   "cell_type": "code",
   "execution_count": 26,
   "metadata": {
    "colab": {
     "base_uri": "https://localhost:8080/",
     "height": 430
    },
    "executionInfo": {
     "elapsed": 136,
     "status": "ok",
     "timestamp": 1751990122424,
     "user": {
      "displayName": "Bayu Hartanto",
      "userId": "04391629278594755961"
     },
     "user_tz": -540
    },
    "id": "V44rFoKxsynJ",
    "outputId": "c2ef37c0-8361-4426-bea9-76113958f4b8"
   },
   "outputs": [
    {
     "data": {
      "image/png": "[encoded data removed]",
      "text/plain": [
       "<Figure size 640x480 with 1 Axes>"
      ]
     },
     "metadata": {},
     "output_type": "display_data"
    }
   ],
   "source": [
    "plt.step(xs,bin2)\n",
    "plt.plot(xx,yy)\n",
    "plt.show()"
   ]
  }
 ],
 "metadata": {
  "colab": {
   "provenance": []
  },
  "kernelspec": {
   "display_name": "EnviromentSkripsi",
   "language": "python",
   "name": "python3"
  },
  "language_info": {
   "codemirror_mode": {
    "name": "ipython",
    "version": 3
   },
   "file_extension": ".py",
   "mimetype": "text/x-python",
   "name": "python",
   "nbconvert_exporter": "python",
   "pygments_lexer": "ipython3",
   "version": "3.9.18"
  }
 },
 "nbformat": 4,
 "nbformat_minor": 4
}
